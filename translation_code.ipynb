{
 "cells": [
  {
   "cell_type": "code",
   "execution_count": 1,
   "id": "3dd0f517",
   "metadata": {},
   "outputs": [
    {
     "name": "stdout",
     "output_type": "stream",
     "text": [
      "Requirement already satisfied: gspread in c:\\users\\amrit\\anaconda3\\lib\\site-packages (5.11.3)\n",
      "Requirement already satisfied: google-auth>=1.12.0 in c:\\users\\amrit\\anaconda3\\lib\\site-packages (from gspread) (2.23.3)\n",
      "Requirement already satisfied: google-auth-oauthlib>=0.4.1 in c:\\users\\amrit\\appdata\\roaming\\python\\python39\\site-packages (from gspread) (1.0.0)\n",
      "Requirement already satisfied: cachetools<6.0,>=2.0.0 in c:\\users\\amrit\\anaconda3\\lib\\site-packages (from google-auth>=1.12.0->gspread) (4.2.2)"
     ]
    },
    {
     "name": "stderr",
     "output_type": "stream",
     "text": [
      "WARNING: Ignoring invalid distribution -atplotlib (c:\\users\\amrit\\anaconda3\\lib\\site-packages)"
     ]
    },
    {
     "name": "stdout",
     "output_type": "stream",
     "text": [
      "\n",
      "Requirement already satisfied: pyasn1-modules>=0.2.1 in c:\\users\\amrit\\anaconda3\\lib\\site-packages (from google-auth>=1.12.0->gspread) (0.2.8)\n",
      "Requirement already satisfied: rsa<5,>=3.1.4 in c:\\users\\amrit\\anaconda3\\lib\\site-packages (from google-auth>=1.12.0->gspread) (4.7.2)\n",
      "Requirement already satisfied: requests-oauthlib>=0.7.0 in c:\\users\\amrit\\anaconda3\\lib\\site-packages (from google-auth-oauthlib>=0.4.1->gspread) (1.3.1)\n",
      "Requirement already satisfied: pyasn1<0.5.0,>=0.4.6 in c:\\users\\amrit\\anaconda3\\lib\\site-packages (from pyasn1-modules>=0.2.1->google-auth>=1.12.0->gspread) (0.4.8)\n",
      "Requirement already satisfied: oauthlib>=3.0.0 in c:\\users\\amrit\\anaconda3\\lib\\site-packages (from requests-oauthlib>=0.7.0->google-auth-oauthlib>=0.4.1->gspread) (3.2.2)\n",
      "Requirement already satisfied: requests>=2.0.0 in c:\\users\\amrit\\anaconda3\\lib\\site-packages (from requests-oauthlib>=0.7.0->google-auth-oauthlib>=0.4.1->gspread) (2.31.0)\n",
      "Requirement already satisfied: charset-normalizer<4,>=2 in c:\\users\\amrit\\anaconda3\\lib\\site-packages (from requests>=2.0.0->requests-oauthlib>=0.7.0->google-auth-oauthlib>=0.4.1->gspread) (2.0.4)\n",
      "Requirement already satisfied: idna<4,>=2.5 in c:\\users\\amrit\\anaconda3\\lib\\site-packages (from requests>=2.0.0->requests-oauthlib>=0.7.0->google-auth-oauthlib>=0.4.1->gspread) (3.3)\n",
      "Requirement already satisfied: urllib3<3,>=1.21.1 in c:\\users\\amrit\\anaconda3\\lib\\site-packages (from requests>=2.0.0->requests-oauthlib>=0.7.0->google-auth-oauthlib>=0.4.1->gspread) (1.26.16)\n",
      "Requirement already satisfied: certifi>=2017.4.17 in c:\\users\\amrit\\anaconda3\\lib\\site-packages (from requests>=2.0.0->requests-oauthlib>=0.7.0->google-auth-oauthlib>=0.4.1->gspread) (2021.10.8)\n"
     ]
    },
    {
     "name": "stderr",
     "output_type": "stream",
     "text": [
      "\n",
      "WARNING: Ignoring invalid distribution -ensorflow-intel (c:\\users\\amrit\\anaconda3\\lib\\site-packages)\n",
      "WARNING: Ignoring invalid distribution -rotobuf (c:\\users\\amrit\\anaconda3\\lib\\site-packages)\n",
      "WARNING: Ignoring invalid distribution -atplotlib (c:\\users\\amrit\\anaconda3\\lib\\site-packages)\n",
      "WARNING: Ignoring invalid distribution -ensorflow-intel (c:\\users\\amrit\\anaconda3\\lib\\site-packages)\n",
      "WARNING: Ignoring invalid distribution -rotobuf (c:\\users\\amrit\\anaconda3\\lib\\site-packages)\n",
      "\n",
      "[notice] A new release of pip is available: 23.2.1 -> 23.3\n",
      "[notice] To update, run: python.exe -m pip install --upgrade pip\n"
     ]
    }
   ],
   "source": [
    "!pip install gspread"
   ]
  },
  {
   "cell_type": "code",
   "execution_count": 2,
   "id": "4f898008",
   "metadata": {},
   "outputs": [
    {
     "name": "stdout",
     "output_type": "stream",
     "text": [
      "Requirement already satisfied: gspread-dataframe in c:\\users\\amrit\\anaconda3\\lib\\site-packages (3.3.1)\n",
      "Requirement already satisfied: gspread>=3.0.0 in c:\\users\\amrit\\anaconda3\\lib\\site-packages (from gspread-dataframe) (5.11.3)\n",
      "Requirement already satisfied: pandas>=0.24.0 in c:\\users\\amrit\\anaconda3\\lib\\site-packages (from gspread-dataframe) (1.3.5)\n",
      "Requirement already satisfied: six>=1.12.0 in c:\\users\\amrit\\anaconda3\\lib\\site-packages (from gspread-dataframe) (1.16.0)\n",
      "Requirement already satisfied: google-auth>=1.12.0 in c:\\users\\amrit\\anaconda3\\lib\\site-packages (from gspread>=3.0.0->gspread-dataframe) (2.23.3)\n",
      "Requirement already satisfied: google-auth-oauthlib>=0.4.1 in c:\\users\\amrit\\appdata\\roaming\\python\\python39\\site-packages (from gspread>=3.0.0->gspread-dataframe) (1.0.0)\n",
      "Requirement already satisfied: python-dateutil>=2.7.3 in c:\\users\\amrit\\anaconda3\\lib\\site-packages (from pandas>=0.24.0->gspread-dataframe) (2.8.1)\n",
      "Requirement already satisfied: pytz>=2017.3 in c:\\users\\amrit\\anaconda3\\lib\\site-packages (from pandas>=0.24.0->gspread-dataframe) (2022.7.1)\n",
      "Requirement already satisfied: numpy>=1.17.3 in c:\\users\\amrit\\anaconda3\\lib\\site-packages (from pandas>=0.24.0->gspread-dataframe) (1.24.2)\n",
      "Requirement already satisfied: cachetools<6.0,>=2.0.0 in c:\\users\\amrit\\anaconda3\\lib\\site-packages (from google-auth>=1.12.0->gspread>=3.0.0->gspread-dataframe) (4.2.2)\n",
      "Requirement already satisfied: pyasn1-modules>=0.2.1 in c:\\users\\amrit\\anaconda3\\lib\\site-packages (from google-auth>=1.12.0->gspread>=3.0.0->gspread-dataframe) (0.2.8)\n",
      "Requirement already satisfied: rsa<5,>=3.1.4 in c:\\users\\amrit\\anaconda3\\lib\\site-packages (from google-auth>=1.12.0->gspread>=3.0.0->gspread-dataframe) (4.7.2)\n"
     ]
    },
    {
     "name": "stderr",
     "output_type": "stream",
     "text": [
      "WARNING: Ignoring invalid distribution -atplotlib (c:\\users\\amrit\\anaconda3\\lib\\site-packages)\n",
      "WARNING: Ignoring invalid distribution -ensorflow-intel (c:\\users\\amrit\\anaconda3\\lib\\site-packages)\n",
      "WARNING: Ignoring invalid distribution -rotobuf (c:\\users\\amrit\\anaconda3\\lib\\site-packages)\n",
      "WARNING: Ignoring invalid distribution -atplotlib (c:\\users\\amrit\\anaconda3\\lib\\site-packages)\n",
      "WARNING: Ignoring invalid distribution -ensorflow-intel (c:\\users\\amrit\\anaconda3\\lib\\site-packages)\n",
      "WARNING: Ignoring invalid distribution -rotobuf (c:\\users\\amrit\\anaconda3\\lib\\site-packages)\n",
      "\n",
      "[notice] A new release of pip is available: 23.2.1 -> 23.3\n",
      "[notice] To update, run: python.exe -m pip install --upgrade pip\n"
     ]
    },
    {
     "name": "stdout",
     "output_type": "stream",
     "text": [
      "Requirement already satisfied: requests-oauthlib>=0.7.0 in c:\\users\\amrit\\anaconda3\\lib\\site-packages (from google-auth-oauthlib>=0.4.1->gspread>=3.0.0->gspread-dataframe) (1.3.1)\n",
      "Requirement already satisfied: pyasn1<0.5.0,>=0.4.6 in c:\\users\\amrit\\anaconda3\\lib\\site-packages (from pyasn1-modules>=0.2.1->google-auth>=1.12.0->gspread>=3.0.0->gspread-dataframe) (0.4.8)\n",
      "Requirement already satisfied: oauthlib>=3.0.0 in c:\\users\\amrit\\anaconda3\\lib\\site-packages (from requests-oauthlib>=0.7.0->google-auth-oauthlib>=0.4.1->gspread>=3.0.0->gspread-dataframe) (3.2.2)\n",
      "Requirement already satisfied: requests>=2.0.0 in c:\\users\\amrit\\anaconda3\\lib\\site-packages (from requests-oauthlib>=0.7.0->google-auth-oauthlib>=0.4.1->gspread>=3.0.0->gspread-dataframe) (2.31.0)\n",
      "Requirement already satisfied: charset-normalizer<4,>=2 in c:\\users\\amrit\\anaconda3\\lib\\site-packages (from requests>=2.0.0->requests-oauthlib>=0.7.0->google-auth-oauthlib>=0.4.1->gspread>=3.0.0->gspread-dataframe) (2.0.4)\n",
      "Requirement already satisfied: idna<4,>=2.5 in c:\\users\\amrit\\anaconda3\\lib\\site-packages (from requests>=2.0.0->requests-oauthlib>=0.7.0->google-auth-oauthlib>=0.4.1->gspread>=3.0.0->gspread-dataframe) (3.3)\n",
      "Requirement already satisfied: urllib3<3,>=1.21.1 in c:\\users\\amrit\\anaconda3\\lib\\site-packages (from requests>=2.0.0->requests-oauthlib>=0.7.0->google-auth-oauthlib>=0.4.1->gspread>=3.0.0->gspread-dataframe) (1.26.16)\n",
      "Requirement already satisfied: certifi>=2017.4.17 in c:\\users\\amrit\\anaconda3\\lib\\site-packages (from requests>=2.0.0->requests-oauthlib>=0.7.0->google-auth-oauthlib>=0.4.1->gspread>=3.0.0->gspread-dataframe) (2021.10.8)\n"
     ]
    }
   ],
   "source": [
    "!pip install gspread-dataframe"
   ]
  },
  {
   "cell_type": "code",
   "execution_count": 3,
   "id": "177fe6fa",
   "metadata": {},
   "outputs": [
    {
     "name": "stdout",
     "output_type": "stream",
     "text": [
      "Requirement already satisfied: pandas in c:\\users\\amrit\\anaconda3\\lib\\site-packages (1.3.5)"
     ]
    },
    {
     "name": "stderr",
     "output_type": "stream",
     "text": [
      "WARNING: Ignoring invalid distribution -atplotlib (c:\\users\\amrit\\anaconda3\\lib\\site-packages)\n",
      "WARNING: Ignoring invalid distribution -ensorflow-intel (c:\\users\\amrit\\anaconda3\\lib\\site-packages)\n",
      "WARNING: Ignoring invalid distribution -rotobuf (c:\\users\\amrit\\anaconda3\\lib\\site-packages)\n",
      "WARNING: Ignoring invalid distribution -atplotlib (c:\\users\\amrit\\anaconda3\\lib\\site-packages)\n",
      "WARNING: Ignoring invalid distribution -ensorflow-intel (c:\\users\\amrit\\anaconda3\\lib\\site-packages)\n",
      "WARNING: Ignoring invalid distribution -rotobuf (c:\\users\\amrit\\anaconda3\\lib\\site-packages)\n",
      "\n",
      "[notice] A new release of pip is available: 23.2.1 -> 23.3\n",
      "[notice] To update, run: python.exe -m pip install --upgrade pip\n"
     ]
    },
    {
     "name": "stdout",
     "output_type": "stream",
     "text": [
      "\n",
      "Requirement already satisfied: python-dateutil>=2.7.3 in c:\\users\\amrit\\anaconda3\\lib\\site-packages (from pandas) (2.8.1)\n",
      "Requirement already satisfied: pytz>=2017.3 in c:\\users\\amrit\\anaconda3\\lib\\site-packages (from pandas) (2022.7.1)\n",
      "Requirement already satisfied: numpy>=1.17.3 in c:\\users\\amrit\\anaconda3\\lib\\site-packages (from pandas) (1.24.2)\n",
      "Requirement already satisfied: six>=1.5 in c:\\users\\amrit\\anaconda3\\lib\\site-packages (from python-dateutil>=2.7.3->pandas) (1.16.0)\n"
     ]
    }
   ],
   "source": [
    "!pip install pandas"
   ]
  },
  {
   "cell_type": "code",
   "execution_count": 4,
   "id": "24e233fb",
   "metadata": {},
   "outputs": [
    {
     "name": "stdout",
     "output_type": "stream",
     "text": [
      "Requirement already satisfied: snowflake-connector-python in c:\\users\\amrit\\anaconda3\\lib\\site-packages (3.2.1)\n",
      "Requirement already satisfied: asn1crypto<2.0.0,>0.24.0 in c:\\users\\amrit\\anaconda3\\lib\\site-packages (from snowflake-connector-python) (1.5.1)\n",
      "Requirement already satisfied: cffi<2.0.0,>=1.9 in c:\\users\\amrit\\anaconda3\\lib\\site-packages (from snowflake-connector-python) (1.15.0)\n",
      "Requirement already satisfied: cryptography<42.0.0,>=3.1.0 in c:\\users\\amrit\\anaconda3\\lib\\site-packages (from snowflake-connector-python) (40.0.2)\n",
      "Requirement already satisfied: oscrypto<2.0.0 in c:\\users\\amrit\\anaconda3\\lib\\site-packages (from snowflake-connector-python) (1.3.0)\n",
      "Requirement already satisfied: pyOpenSSL<24.0.0,>=16.2.0 in c:\\users\\amrit\\anaconda3\\lib\\site-packages (from snowflake-connector-python) (23.2.0)\n",
      "Requirement already satisfied: pycryptodomex!=3.5.0,<4.0.0,>=3.2 in c:\\users\\amrit\\anaconda3\\lib\\site-packages (from snowflake-connector-python) (3.19.0)\n",
      "Requirement already satisfied: pyjwt<3.0.0 in c:\\users\\amrit\\anaconda3\\lib\\site-packages (from snowflake-connector-python) (2.1.0)\n",
      "Requirement already satisfied: pytz in c:\\users\\amrit\\anaconda3\\lib\\site-packages (from snowflake-connector-python) (2022.7.1)\n",
      "Requirement already satisfied: requests<3.0.0 in c:\\users\\amrit\\anaconda3\\lib\\site-packages (from snowflake-connector-python) (2.31.0)\n",
      "Requirement already satisfied: packaging in c:\\users\\amrit\\anaconda3\\lib\\site-packages (from snowflake-connector-python) (21.3)\n",
      "Requirement already satisfied: charset-normalizer<4,>=2 in c:\\users\\amrit\\anaconda3\\lib\\site-packages (from snowflake-connector-python) (2.0.4)\n",
      "Requirement already satisfied: idna<4,>=2.5 in c:\\users\\amrit\\anaconda3\\lib\\site-packages (from snowflake-connector-python) (3.3)\n",
      "Requirement already satisfied: urllib3<1.27,>=1.21.1 in c:\\users\\amrit\\anaconda3\\lib\\site-packages (from snowflake-connector-python) (1.26.16)\n",
      "Requirement already satisfied: certifi>=2017.4.17 in c:\\users\\amrit\\anaconda3\\lib\\site-packages (from snowflake-connector-python) (2021.10.8)\n",
      "Requirement already satisfied: typing-extensions<5,>=4.3 in c:\\users\\amrit\\anaconda3\\lib\\site-packages (from snowflake-connector-python) (4.7.1)\n",
      "Requirement already satisfied: filelock<4,>=3.5 in c:\\users\\amrit\\anaconda3\\lib\\site-packages (from snowflake-connector-python) (3.6.0)\n",
      "Requirement already satisfied: sortedcontainers>=2.4.0 in c:\\users\\amrit\\anaconda3\\lib\\site-packages (from snowflake-connector-python) (2.4.0)\n",
      "Requirement already satisfied: platformdirs<4.0.0,>=2.6.0 in c:\\users\\amrit\\anaconda3\\lib\\site-packages (from snowflake-connector-python) (3.11.0)\n",
      "Requirement already satisfied: tomlkit in c:\\users\\amrit\\anaconda3\\lib\\site-packages (from snowflake-connector-python) (0.12.1)\n",
      "Requirement already satisfied: pycparser in c:\\users\\amrit\\anaconda3\\lib\\site-packages (from cffi<2.0.0,>=1.9->snowflake-connector-python) (2.21)\n",
      "Requirement already satisfied: pyparsing!=3.0.5,>=2.0.2 in c:\\users\\amrit\\anaconda3\\lib\\site-packages (from packaging->snowflake-connector-python) (3.0.4)\n"
     ]
    },
    {
     "name": "stderr",
     "output_type": "stream",
     "text": [
      "WARNING: Ignoring invalid distribution -atplotlib (c:\\users\\amrit\\anaconda3\\lib\\site-packages)\n",
      "WARNING: Ignoring invalid distribution -ensorflow-intel (c:\\users\\amrit\\anaconda3\\lib\\site-packages)\n",
      "WARNING: Ignoring invalid distribution -rotobuf (c:\\users\\amrit\\anaconda3\\lib\\site-packages)\n",
      "WARNING: Ignoring invalid distribution -atplotlib (c:\\users\\amrit\\anaconda3\\lib\\site-packages)\n",
      "WARNING: Ignoring invalid distribution -ensorflow-intel (c:\\users\\amrit\\anaconda3\\lib\\site-packages)\n",
      "WARNING: Ignoring invalid distribution -rotobuf (c:\\users\\amrit\\anaconda3\\lib\\site-packages)\n",
      "\n",
      "[notice] A new release of pip is available: 23.2.1 -> 23.3\n",
      "[notice] To update, run: python.exe -m pip install --upgrade pip\n"
     ]
    }
   ],
   "source": [
    "!pip install snowflake-connector-python"
   ]
  },
  {
   "cell_type": "code",
   "execution_count": 5,
   "id": "00ad6165",
   "metadata": {},
   "outputs": [],
   "source": [
    "import pandas as pd\n",
    "from snowflake.sqlalchemy import URL\n",
    "from sqlalchemy import create_engine\n",
    "from snowflake.connector.pandas_tools import pd_writer\n",
    "import time \n",
    "import gspread\n",
    "from gspread_dataframe import get_as_dataframe, set_with_dataframe"
   ]
  },
  {
   "cell_type": "code",
   "execution_count": 7,
   "id": "96deed60",
   "metadata": {},
   "outputs": [
    {
     "name": "stdout",
     "output_type": "stream",
     "text": [
      "Spreadsheet OTODOM_ANALYSIS_1 created!\n"
     ]
    },
    {
     "name": "stderr",
     "output_type": "stream",
     "text": [
      "C:\\Users\\amrit\\anaconda3\\lib\\site-packages\\pandas\\io\\sql.py:1685: UserWarning: The provided table name 'OTODOM_DATA_LOG' is not found exactly as such in the database after writing the table, possibly due to case sensitivity issues. Consider using lower case table names.\n",
      "  warnings.warn(msg, UserWarning)\n"
     ]
    },
    {
     "name": "stdout",
     "output_type": "stream",
     "text": [
      "Spreadsheet OTODOM_ANALYSIS_2 created!\n",
      "Spreadsheet OTODOM_ANALYSIS_3 created!\n",
      "--- 26.97686505317688 seconds ---\n"
     ]
    }
   ],
   "source": [
    "start_time = time.time()\n",
    "\n",
    "engine = create_engine(URL(\n",
    "                    account ='xsymtcm-em56590',\n",
    "                    user ='amritaneogi',\n",
    "                    password ='ToblueBear@17',\n",
    "                    database ='HOUSE_PRICE',\n",
    "                    schema ='PUBLIC',\n",
    "                    warehouse ='PRICE_WH'))\n",
    "                \n",
    "with engine.connect() as conn:\n",
    "    try:\n",
    "        query = \"\"\" SELECT ID, TITLE FROM OTODOM_DATA_FLATTEN ORDER BY ID limit 300\"\"\"\n",
    "\n",
    "        df = pd.read_sql(query,conn) # reading data-- 300 records\n",
    "        \n",
    "        \n",
    "        # making connection between this sript and google drive\n",
    "        gc = gspread.service_account(filename='C:/Users/amrit/OneDrive/Documents/GitHub/Data_Analytics_Project-Housing_Price_Profiler/gspread/majestic-bounty-402621-929a2d689e3c.json')\n",
    "        \n",
    "\n",
    "        loop_counter = 0\n",
    "        chunk_size = 100 # google sheet to be created for every 100 records; we have 300 records so 3 files to be created\n",
    "        file_name = 'OTODOM_ANALYSIS_'  # google sheet will be created with this name\n",
    "        user_email = 'amritaneogi0111@gmail.com'\n",
    "\n",
    "        for i in range(0,len(df),chunk_size):\n",
    "            loop_counter += 1\n",
    "            df_in = df.iloc[i:(i+chunk_size), :]\n",
    "\n",
    "            spreadsheet_title = file_name + str(loop_counter)\n",
    "            try:\n",
    "                locals()['sh'+str(loop_counter)] = gc.open(spreadsheet_title)\n",
    "            except gspread.SpreadsheetNotFound:\n",
    "                locals()['sh'+str(loop_counter)] = gc.create(spreadsheet_title)\n",
    "\n",
    "            locals()['sh'+str(loop_counter)].share(user_email, perm_type='user', role='writer')\n",
    "            wks = locals()['sh'+str(loop_counter)].get_worksheet(0)\n",
    "            wks.resize(len(df_in)+1) # resizing because by default google sheets create 1000 records, but here I want only 100\n",
    "            set_with_dataframe(wks, df_in)  # loading data from pandas dataframe to the worksheet\n",
    "                \n",
    "            column = 'C'   # Column to apply the formula \n",
    "            start_row = 2  # Starting row to apply the formula\n",
    "            end_row = wks.row_count   # Ending row to apply the formula\n",
    "            cell_range = f'{column}{start_row}:{column}{end_row}' \n",
    "            curr_row = start_row\n",
    "            cell_list = wks.range(cell_range) # returns all the cells where formula needs to be applied\n",
    "            \n",
    "            for cell in cell_list:\n",
    "                cell.value = f'=GOOGLETRANSLATE(B{curr_row},\"pl\",\"en\")'\n",
    "                curr_row += 1\n",
    "                \n",
    "            # Update the worksheet with the modified cells\n",
    "            wks.update_cells(cell_list, value_input_option='USER_ENTERED')\n",
    "\n",
    "            print(f'Spreadsheet {spreadsheet_title} created!')\n",
    "\n",
    "            # creating a log table\n",
    "            # it takes 30 to 60 mins to get all the formulae applied\n",
    "            # so I do not want to immediately do all the transformation in google sheet and load it back to snowflake, rather wait for some time for the formulae to update completely\n",
    "            df_log = pd.DataFrame({'ID':[loop_counter], 'SPREADSHEET_NAME':[spreadsheet_title]})\n",
    "            \n",
    "            # load the spreadsheet to a log table, once all the formulae is updated, run another script to load data from google sheet back to Python and then to snowflake\n",
    "            df_log.to_sql('OTODOM_DATA_LOG', con=engine, if_exists='append', index=False)\n",
    "\n",
    "    except Exception as e:\n",
    "        print('--- Error --- ',e)\n",
    "    finally:\n",
    "        conn.close()\n",
    "engine.dispose()\n",
    "\n",
    "print(\"--- %s seconds ---\" % (time.time() - start_time))"
   ]
  },
  {
   "cell_type": "code",
   "execution_count": null,
   "id": "2c9d8199",
   "metadata": {},
   "outputs": [],
   "source": []
  }
 ],
 "metadata": {
  "kernelspec": {
   "display_name": "Python 3 (ipykernel)",
   "language": "python",
   "name": "python3"
  },
  "language_info": {
   "codemirror_mode": {
    "name": "ipython",
    "version": 3
   },
   "file_extension": ".py",
   "mimetype": "text/x-python",
   "name": "python",
   "nbconvert_exporter": "python",
   "pygments_lexer": "ipython3",
   "version": "3.9.12"
  }
 },
 "nbformat": 4,
 "nbformat_minor": 5
}
